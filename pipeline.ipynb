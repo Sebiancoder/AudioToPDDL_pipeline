{
 "cells": [
  {
   "cell_type": "markdown",
   "metadata": {},
   "source": [
    "# Pipeline for generating Problem PDDL files from recorded audio speech"
   ]
  },
  {
   "cell_type": "markdown",
   "metadata": {},
   "source": [
    "## Phase 1: Record Audio\n",
    "\n",
    "Audio will be recorded and placed in the audio_data folder."
   ]
  },
  {
   "cell_type": "code",
   "execution_count": 10,
   "metadata": {},
   "outputs": [
    {
     "name": "stdout",
     "output_type": "stream",
     "text": [
      "recording_2023-12-04_15_15_03\n",
      "Recording Starting for 5 seconds\n",
      "* done recording\n"
     ]
    }
   ],
   "source": [
    "import pyaudio\n",
    "import wave\n",
    "from datetime import datetime\n",
    "\n",
    "CHUNK = 1024\n",
    "RATE = 44100\n",
    "RECORD_SECONDS = 5\n",
    "\n",
    "pyAud = pyaudio.PyAudio()\n",
    "\n",
    "audio_file_name = \"recording_{dt}\".format(dt=datetime.now()).replace(\" \", \"_\").replace(\":\", \"_\").split(\".\")[0]\n",
    "\n",
    "print(audio_file_name)\n",
    "print(\"Recording Starting for {rt} seconds\".format(rt=RECORD_SECONDS))\n",
    "\n",
    "stream = pyAud.open(format=pyaudio.paInt16,\n",
    "                channels=1,\n",
    "                rate=RATE,\n",
    "                input=True,\n",
    "                frames_per_buffer=CHUNK)\n",
    "\n",
    "frames = []\n",
    "\n",
    "for i in range(0, int(RATE / CHUNK * RECORD_SECONDS)):\n",
    "    data = stream.read(CHUNK)\n",
    "    frames.append(data)\n",
    "\n",
    "print(\"* done recording\")\n",
    "\n",
    "stream.stop_stream()\n",
    "stream.close()\n",
    "pyAud.terminate()\n",
    "\n",
    "wf = wave.open(\"audio_data/\" + audio_file_name + \".wav\", 'wb')\n",
    "wf.setnchannels(1)\n",
    "wf.setsampwidth(p.get_sample_size(pyaudio.paInt16))\n",
    "wf.setframerate(RATE)\n",
    "wf.writeframes(b''.join(frames))\n",
    "wf.close()"
   ]
  },
  {
   "cell_type": "markdown",
   "metadata": {},
   "source": [
    "## Phase 2\n",
    "\n",
    "In the next phase, we will generate text from our audio data using the OpenAI transcription API. Be warned that running this code costs money."
   ]
  },
  {
   "cell_type": "code",
   "execution_count": 20,
   "metadata": {},
   "outputs": [],
   "source": [
    "from openai import OpenAI\n",
    "\n",
    "#read in API key\n",
    "with open('secrets/openai_autobots_key.txt') as f:\n",
    "    lines = f.readlines()\n",
    "\n",
    "client = OpenAI(api_key=lines[0])\n",
    "\n",
    "audio_file_name = \"recording_2023-12-04_15_13_10.wav\"\n",
    "\n",
    "audio_file = open(\"audio_data/{af}\".format(af=audio_file_name), \"rb\")\n",
    "transcript = client.audio.transcriptions.create(\n",
    "  model=\"whisper-1\", \n",
    "  file=audio_file\n",
    ")\n",
    "\n",
    "#write to file\n",
    "with open(\"text_data/{tfn}.txt\".format(tfn=audio_file_name.split(\".\")[0]), 'w') as f:\n",
    "    f.write(transcript.text)\n",
    "\n",
    "  "
   ]
  },
  {
   "cell_type": "markdown",
   "metadata": {},
   "source": [
    "## Phase 3\n",
    "\n",
    "Finally, we will take this text, and use the GPT 3.5 Turbo model to generate PDDL."
   ]
  },
  {
   "cell_type": "code",
   "execution_count": 27,
   "metadata": {},
   "outputs": [
    {
     "name": "stdout",
     "output_type": "stream",
     "text": [
      "ChatCompletion(id='chatcmpl-8SChYRoggOhy8KUFCMk34tRdzBX8s', choices=[Choice(finish_reason='stop', index=0, message=ChatCompletionMessage(content=';; Problem PDDL file for a robot to greet people\\n\\n(define (problem greeting-robot)\\n  (:domain robot-domain)\\n\\n  (:objects\\n    robot - robot\\n    person - person\\n  )\\n\\n  (:init\\n    (at robot)\\n    (at person)\\n  )\\n\\n  (:goal\\n    (greeted person)\\n  )\\n)', role='assistant', function_call=None, tool_calls=None))], created=1701732700, model='gpt-3.5-turbo-0613', object='chat.completion', system_fingerprint=None, usage=CompletionUsage(completion_tokens=71, prompt_tokens=24, total_tokens=95))\n"
     ]
    }
   ],
   "source": [
    "text_file_name = \"recording_2023-12-04_15_13_10.txt\"\n",
    "\n",
    "with open(\"text_data/\" + text_file_name) as f:\n",
    "    lines = f.readlines()\n",
    "\n",
    "text = lines[0]\n",
    "\n",
    "prompt = \"Generate a problem PDDL file for a robot to: \"\n",
    "\n",
    "messages = [{\"role\": \"user\", \"content\": prompt + text}]\n",
    "\n",
    "response = client.chat.completions.create(\n",
    "    model=\"gpt-3.5-turbo\",\n",
    "    messages=messages\n",
    ")\n",
    "\n",
    "pddl = response.choices[0].message.content\n",
    "\n",
    "#write to file\n",
    "with open(\"pddl_data/{pddlfn}.pddl\".format(pddlfn=audio_file_name.split(\".\")[0]), 'w') as f:\n",
    "    f.write(pddl)"
   ]
  }
 ],
 "metadata": {
  "kernelspec": {
   "display_name": "Python 3",
   "language": "python",
   "name": "python3"
  },
  "language_info": {
   "codemirror_mode": {
    "name": "ipython",
    "version": 3
   },
   "file_extension": ".py",
   "mimetype": "text/x-python",
   "name": "python",
   "nbconvert_exporter": "python",
   "pygments_lexer": "ipython3",
   "version": "3.9.7"
  }
 },
 "nbformat": 4,
 "nbformat_minor": 2
}
